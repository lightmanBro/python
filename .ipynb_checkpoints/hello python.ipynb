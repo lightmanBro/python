{
 "cells": [
  {
   "cell_type": "code",
   "execution_count": 2,
   "id": "f0b5be0e-b588-4f92-8e44-4fba3598e196",
   "metadata": {},
   "outputs": [
    {
     "name": "stdout",
     "output_type": "stream",
     "text": [
      "hello world\n"
     ]
    }
   ],
   "source": [
    "print(\"hello world\")"
   ]
  },
  {
   "cell_type": "code",
   "execution_count": 1,
   "id": "292ccccf-f174-41b2-81ec-55fb07626085",
   "metadata": {},
   "outputs": [],
   "source": [
    "hello_str=\"hello world\""
   ]
  },
  {
   "cell_type": "code",
   "execution_count": 4,
   "id": "edfd4af6-77fa-4105-98a6-92769de0206f",
   "metadata": {},
   "outputs": [
    {
     "name": "stdout",
     "output_type": "stream",
     "text": [
      "['hello this is a list']\n"
     ]
    }
   ],
   "source": [
    "hello_list=[\"hello \" \"this \" \"is \" \"a \" \"list\"]\n",
    "print(hello_list)"
   ]
  },
  {
   "cell_type": "code",
   "execution_count": null,
   "id": "6e2a0cb4-1eaa-4250-93c2-b9c00f36240c",
   "metadata": {},
   "outputs": [],
   "source": [
    "hello_list=list()"
   ]
  },
  {
   "cell_type": "code",
   "execution_count": null,
   "id": "de60fde2-0c86-4b37-a48c-cecfa6c90b40",
   "metadata": {},
   "outputs": [
    {
     "name": "stdout",
     "output_type": "stream",
     "text": [
      "['Hello', 'this', 'is', 'a', 'list', 'david']\n"
     ]
    }
   ],
   "source": [
    "hello_list = list()\n",
    "hello_list.append(\"Hello\") #0\n",
    "hello_list.append(\"this\") #1\n",
    "hello_list.append(\"is\") #2\n",
    "hello_list.append(\"a\") #3\n",
    "hello_list.append(\"list\") #4\n",
    "hello_list.append(\"david\") #5\n",
    "print(hello_list)"
   ]
  },
  {
   "cell_type": "code",
   "execution_count": 62,
   "id": "6334ee57-60fc-48bb-a85b-0a8d3441d2f9",
   "metadata": {},
   "outputs": [
    {
     "name": "stdout",
     "output_type": "stream",
     "text": [
      "a!ahhh\n"
     ]
    }
   ],
   "source": [
    "hello_list[3] = hello_list[3] + \"!\" + \"ahhh\"\n",
    "print(hello_list[3])"
   ]
  },
  {
   "cell_type": "code",
   "execution_count": 24,
   "id": "8398f1a2-8609-49ca-a2fb-7292e105a6c3",
   "metadata": {},
   "outputs": [
    {
     "name": "stdout",
     "output_type": "stream",
     "text": [
      "{'first_name': 'liam', 'last_name': 'fraser', 'eye_color': 'brown'}\n"
     ]
    }
   ],
   "source": [
    "hello_dict = {\"first_name\":\"liam\", #0\n",
    "              \"last_name\":\"fraser\",#1\n",
    "              \"eye_color\":\"brown\"} #2\n",
    "print(hello_dict)"
   ]
  },
  {
   "cell_type": "code",
   "execution_count": null,
   "id": "6a5da4c7-0d48-4d9b-8737-abd4250feb2e",
   "metadata": {},
   "outputs": [
    {
     "name": "stdout",
     "output_type": "stream",
     "text": [
      "liam fraser has brown eye.\n"
     ]
    }
   ],
   "source": [
    "# example 2\n",
    "print(\"{0} {1} has {2} eye.\".format(hello_dict[\"first_name\"],\n",
    "                                hello_dict[\"last_name\"],\n",
    "                                hello_dict[\"eye_color\"]))"
   ]
  },
  {
   "cell_type": "code",
   "execution_count": null,
   "id": "731a6f42-14ff-4ed5-a4ca-bf9db011897d",
   "metadata": {},
   "outputs": [],
   "source": []
  },
  {
   "cell_type": "code",
   "execution_count": 46,
   "id": "2ebf3f5d-8040-4437-8914-43af05f26cdf",
   "metadata": {},
   "outputs": [
    {
     "name": "stdout",
     "output_type": "stream",
     "text": [
      "liam fraser has brown eyes.\n"
     ]
    }
   ],
   "source": [
    "# using python string formatter (.format)#\n",
    "\n",
    "print(\"{0} {1} has {2} eyes.\".format(hello_dict[\"first_name\"],\n",
    " hello_dict[\"last_name\"],\n",
    " hello_dict[\"eye_color\"]))"
   ]
  },
  {
   "cell_type": "code",
   "execution_count": 18,
   "id": "a0c8caf2-982a-4384-8ea8-7010e6b3ddeb",
   "metadata": {},
   "outputs": [
    {
     "ename": "NameError",
     "evalue": "name 'sys' is not defined",
     "output_type": "error",
     "traceback": [
      "\u001b[1;31m---------------------------------------------------------------------------\u001b[0m",
      "\u001b[1;31mNameError\u001b[0m                                 Traceback (most recent call last)",
      "\u001b[1;32m~\\AppData\\Local\\Temp/ipykernel_6884/2060888647.py\u001b[0m in \u001b[0;36m<module>\u001b[1;34m\u001b[0m\n\u001b[0;32m      3\u001b[0m \u001b[1;33m\u001b[0m\u001b[0m\n\u001b[0;32m      4\u001b[0m \u001b[1;32mif\u001b[0m \u001b[0mint_condition\u001b[0m \u001b[1;33m<\u001b[0m \u001b[1;36m6\u001b[0m\u001b[1;33m:\u001b[0m\u001b[1;33m\u001b[0m\u001b[1;33m\u001b[0m\u001b[0m\n\u001b[1;32m----> 5\u001b[1;33m     \u001b[0msys\u001b[0m\u001b[1;33m.\u001b[0m\u001b[0mexit\u001b[0m\u001b[1;33m(\u001b[0m\u001b[1;34m\"int_condition must be > = 6\"\u001b[0m\u001b[1;33m)\u001b[0m\u001b[1;33m\u001b[0m\u001b[1;33m\u001b[0m\u001b[0m\n\u001b[0m\u001b[0;32m      6\u001b[0m \u001b[1;32melse\u001b[0m\u001b[1;33m:\u001b[0m\u001b[1;33m\u001b[0m\u001b[1;33m\u001b[0m\u001b[0m\n\u001b[0;32m      7\u001b[0m     \u001b[0mprint\u001b[0m\u001b[1;33m(\u001b[0m\u001b[1;34m\"int_condition was >=6 - continuing...\"\u001b[0m\u001b[1;33m)\u001b[0m\u001b[1;33m\u001b[0m\u001b[1;33m\u001b[0m\u001b[0m\n",
      "\u001b[1;31mNameError\u001b[0m: name 'sys' is not defined"
     ]
    }
   ],
   "source": [
    "# using the (sys.exit) function to throw an error and exit the function if the user imput is not correct with the condition.\n",
    "int_condition = 3\n",
    "\n",
    "if int_condition < 6:\n",
    "    sys.exit(\"int_condition must be > = 6\")\n",
    "else:\n",
    "    print(\"int_condition was >=6 - continuing...\")"
   ]
  },
  {
   "cell_type": "code",
   "execution_count": 68,
   "id": "e0e92a49-b10b-4367-8808-c16553c4421a",
   "metadata": {},
   "outputs": [
    {
     "name": "stdout",
     "output_type": "stream",
     "text": [
      "int_condition is > = 6 - continuing...\n"
     ]
    }
   ],
   "source": [
    "# using the (sys.exit) function to throw an error and exit the function if the user imput is not correct with the condition.\n",
    "int_condition = 7\n",
    "\n",
    "if int_condition < 6:\n",
    "    sys.exit(\"int_condition must be > = 6\")\n",
    "else:\n",
    "    print(\"int_condition is > = 6 - continuing...\")"
   ]
  },
  {
   "cell_type": "code",
   "execution_count": null,
   "id": "1dfc4d82-43ea-451d-b0f6-09284b3dae80",
   "metadata": {},
   "outputs": [],
   "source": [
    " "
   ]
  }
 ],
 "metadata": {
  "kernelspec": {
   "display_name": "Python 3 (ipykernel)",
   "language": "python",
   "name": "python3"
  },
  "language_info": {
   "codemirror_mode": {
    "name": "ipython",
    "version": 3
   },
   "file_extension": ".py",
   "mimetype": "text/x-python",
   "name": "python",
   "nbconvert_exporter": "python",
   "pygments_lexer": "ipython3",
   "version": "3.9.7"
  }
 },
 "nbformat": 4,
 "nbformat_minor": 5
}
