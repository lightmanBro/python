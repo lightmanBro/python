{
 "cells": [
  {
   "cell_type": "code",
   "execution_count": 3,
   "id": "d75c3dd5-8985-474d-bfe4-5b80415bf6e9",
   "metadata": {},
   "outputs": [],
   "source": [
    "a = [\"banana\", \"apple\", \"microsoft\",]"
   ]
  },
  {
   "cell_type": "code",
   "execution_count": 4,
   "id": "1241de7d-33f2-4028-89c6-68751f7e3c8d",
   "metadata": {},
   "outputs": [
    {
     "name": "stdout",
     "output_type": "stream",
     "text": [
      "banana\n",
      "apple\n",
      "microsoft\n"
     ]
    }
   ],
   "source": [
    "print(a[0])\n",
    "print(a[1])\n",
    "print(a[2])"
   ]
  },
  {
   "cell_type": "code",
   "execution_count": null,
   "id": "068ba782-57a5-499e-9c47-4972d2daa5e5",
   "metadata": {},
   "outputs": [],
   "source": [
    "#IN CASE THERE ARE HUNDREDS OF ELEMENTS TO BE PRINTED INSIDE OF A TO AVOID TOO MUCH STRESS THEN A FOR LOOP CAN BE USED INSTEAD\n"
   ]
  },
  {
   "cell_type": "code",
   "execution_count": 5,
   "id": "1ba2c84d-06f7-4e33-b473-512e2d8a0b19",
   "metadata": {},
   "outputs": [
    {
     "name": "stdout",
     "output_type": "stream",
     "text": [
      "banana\n",
      "apple\n",
      "microsoft\n"
     ]
    }
   ],
   "source": [
    "for element in a:\n",
    "    print(element)"
   ]
  },
  {
   "cell_type": "code",
   "execution_count": 7,
   "id": "0d179466-368c-4128-8f67-68736c4854c7",
   "metadata": {},
   "outputs": [
    {
     "name": "stdout",
     "output_type": "stream",
     "text": [
      "20\n",
      "10\n",
      "5\n",
      "20\n",
      "10\n",
      "5\n"
     ]
    }
   ],
   "source": [
    "b = [20, 10, 5]\n",
    "for element in b:\n",
    "    print(element)\n",
    "    \n",
    "# OR\n",
    "\n",
    "b = [20, 10, 5]\n",
    "for e in b:\n",
    "    print(e)"
   ]
  },
  {
   "cell_type": "code",
   "execution_count": 9,
   "id": "f71573cf-5b10-45eb-950a-24f019a6db38",
   "metadata": {},
   "outputs": [
    {
     "name": "stdout",
     "output_type": "stream",
     "text": [
      "35\n"
     ]
    }
   ],
   "source": [
    "# CALCULATING THE TOTALS INTEGERS IN OF THE WHOLE ELEMENTS IN B\n",
    "b = [20, 10, 5]\n",
    "total = 0\n",
    "for e in b:\n",
    "    total = total + e\n",
    "print(total)"
   ]
  },
  {
   "cell_type": "code",
   "execution_count": null,
   "id": "f8c32eec-0cf6-4d33-8367-11426c7771fd",
   "metadata": {},
   "outputs": [],
   "source": [
    "#1.USING RANGES TO FIND THE SUM OF THE WHOLE ELEMENTS OF B INSTEAD OF WRITING EVERYTHING OUT INDIVIDUALLY.\n",
    "#2. ADDING AND REMOVING ELEMENTS FROM THE RANGES OF ELEMENTS IN C"
   ]
  },
  {
   "cell_type": "code",
   "execution_count": 11,
   "id": "9a6b0572-1562-4739-8022-c9360e17e76b",
   "metadata": {},
   "outputs": [
    {
     "name": "stdout",
     "output_type": "stream",
     "text": [
      "[1, 2, 3, 4]\n"
     ]
    }
   ],
   "source": [
    "# 1, 2, 3, 4, 5\n",
    "#range(1, 5)\n",
    "c = list(range(1, 5))\n",
    "print(c)"
   ]
  },
  {
   "cell_type": "code",
   "execution_count": 26,
   "id": "c52f1249-14f4-45af-9fc9-e5c12610372a",
   "metadata": {},
   "outputs": [
    {
     "name": "stdout",
     "output_type": "stream",
     "text": [
      "[1, 2, 3, 4, 5, 6, 7, 8, 9, 10, 11, 12, 13, 14, 15, 16, 17, 18, 19, 20, 21, 22, 23, 24, 25, 26, 27, 28, 29, 30, 31, 32, 33, 34, 35, 36, 37, 38, 39]\n"
     ]
    }
   ],
   "source": [
    "x = list(range(1, 40))\n",
    "print(x)"
   ]
  },
  {
   "cell_type": "code",
   "execution_count": 28,
   "id": "cbec0c7b-b57b-411c-bce8-d7d53565307c",
   "metadata": {},
   "outputs": [
    {
     "data": {
      "text/plain": [
       "23"
      ]
     },
     "execution_count": 28,
     "metadata": {},
     "output_type": "execute_result"
    }
   ],
   "source": [
    "x.pop(22)"
   ]
  },
  {
   "cell_type": "code",
   "execution_count": 25,
   "id": "68e9369c-459b-41ff-acc3-e56d2e43a53c",
   "metadata": {},
   "outputs": [
    {
     "name": "stdout",
     "output_type": "stream",
     "text": [
      "[1, 2, 3, 4, 5, 6, 7, 8, 9, 10, 11, 12, 13, 14, 15, 16, 17, 18, 19, 20, 22, 23, 25, 26, 27, 28, 29, 30, 31, 32, 33, 34, 35, 36, 37, 38, 39]\n"
     ]
    }
   ],
   "source": [
    "print(x)"
   ]
  },
  {
   "cell_type": "code",
   "execution_count": 31,
   "id": "b53127ed-39a0-4ff6-a237-f613ebe6aaf9",
   "metadata": {},
   "outputs": [
    {
     "name": "stdout",
     "output_type": "stream",
     "text": [
      "[1, 2, 3, 4, 5, 6, 7, 8, 9, 10, 11, 12, 13, 14, 15, 16, 17, 18, 19, 20, 21, 22, 24, 'removed', 26, 27, 28, 29, 30, 31, 32, 33, 34, 35, 36, 37, 38, 39]\n"
     ]
    }
   ],
   "source": [
    "x[23] = \"removed\"\n",
    "print(x)"
   ]
  },
  {
   "cell_type": "code",
   "execution_count": 12,
   "id": "57678128-9fe3-4f5e-9b8f-9bf2dba25c1d",
   "metadata": {},
   "outputs": [
    {
     "name": "stdout",
     "output_type": "stream",
     "text": [
      "1\n",
      "2\n",
      "3\n",
      "4\n"
     ]
    }
   ],
   "source": [
    "#USING A FOR LOOP\n",
    "for i in range(1, 5):\n",
    "    print(i)"
   ]
  },
  {
   "cell_type": "code",
   "execution_count": null,
   "id": "27033e74-2b04-4bc8-9365-2b42d0a9bd1a",
   "metadata": {},
   "outputs": [],
   "source": []
  },
  {
   "cell_type": "code",
   "execution_count": 63,
   "id": "658935f7-040e-4dd5-a427-51020fa6c81d",
   "metadata": {},
   "outputs": [
    {
     "name": "stdout",
     "output_type": "stream",
     "text": [
      "1\n",
      "3\n",
      "6\n",
      "10\n"
     ]
    }
   ],
   "source": [
    "total2 = 0\n",
    "for i in range(1, 5):\n",
    "    total2 += i\n",
    "    print(total2)"
   ]
  },
  {
   "cell_type": "code",
   "execution_count": 15,
   "id": "559bd3f5-f042-4a8d-b849-1bd2f781eaae",
   "metadata": {},
   "outputs": [
    {
     "name": "stdout",
     "output_type": "stream",
     "text": [
      "10\n"
     ]
    }
   ],
   "source": [
    "print(total2)"
   ]
  },
  {
   "cell_type": "code",
   "execution_count": 19,
   "id": "0b236779-0c7d-4c0d-a9ae-f90c0944230c",
   "metadata": {},
   "outputs": [
    {
     "name": "stdout",
     "output_type": "stream",
     "text": [
      "[1, 2, 3, 4, 5, 6, 7]\n"
     ]
    }
   ],
   "source": [
    "print(list(range(1, 8)))"
   ]
  },
  {
   "cell_type": "code",
   "execution_count": null,
   "id": "c125ecae-e6ab-4109-abab-a118ca7fd1ac",
   "metadata": {},
   "outputs": [],
   "source": [
    "#TO FIND THE SUM OF ONLY THE MULTIPLES OF A SPECIFIC NUMBER IN THE RANGE WHEN THE RANGE IS MUCH LARGER"
   ]
  },
  {
   "cell_type": "code",
   "execution_count": 20,
   "id": "2571a9ee-93b2-4e81-a44e-de7ac484e813",
   "metadata": {},
   "outputs": [
    {
     "name": "stdout",
     "output_type": "stream",
     "text": [
      "1\n"
     ]
    }
   ],
   "source": [
    "#modulo example: THIS GIVES US A REMAINDER OF AN INTEGER\n",
    "print(4 % 3)"
   ]
  },
  {
   "cell_type": "code",
   "execution_count": 34,
   "id": "23985f11-82da-43be-aa89-83f1f8aa89b0",
   "metadata": {},
   "outputs": [
    {
     "name": "stdout",
     "output_type": "stream",
     "text": [
      "9\n"
     ]
    }
   ],
   "source": [
    "# to check if i is multiple of 3 then the following declaration needs to be made\n",
    "\n",
    "total3 = 0\n",
    "for i in range(1, 8):\n",
    "    if i % 3 == 0 :\n",
    "        total3 += i\n",
    "print(total3)"
   ]
  },
  {
   "cell_type": "code",
   "execution_count": 37,
   "id": "eec81fcc-bacc-499f-adf6-e9156b745ac4",
   "metadata": {},
   "outputs": [
    {
     "name": "stdout",
     "output_type": "stream",
     "text": [
      "5\n"
     ]
    }
   ],
   "source": [
    "total3 = 1\n",
    "for i in range(1, 8):\n",
    "    if i % 2 == 1:\n",
    "        total3 += i\n",
    "print(total3)"
   ]
  },
  {
   "cell_type": "code",
   "execution_count": 39,
   "id": "20c09dbc-c529-47e3-b5ff-774081d18fad",
   "metadata": {},
   "outputs": [
    {
     "name": "stdout",
     "output_type": "stream",
     "text": [
      "[1, 2, 3, 4, 5, 6, 7, 8, 9, 10, 11, 12, 13, 14, 15, 16, 17, 18, 19, 20, 21, 22, 23, 24, 25, 26, 27, 28, 29, 30, 31, 32, 33, 34, 35, 36, 37, 38, 39, 40, 41, 42, 43, 44, 45, 46, 47, 48, 49, 50, 51, 52, 53, 54, 55, 56, 57, 58, 59, 60, 61, 62, 63, 64, 65, 66, 67, 68, 69, 70, 71, 72, 73, 74, 75, 76, 77, 78, 79, 80, 81, 82, 83, 84, 85, 86, 87, 88, 89, 90, 91, 92, 93, 94, 95, 96, 97, 98, 99]\n"
     ]
    }
   ],
   "source": [
    "#COMPUTE ALL MULTINODES OF 3, 5 THAT ARE LESS THAN 100\n",
    "print(list(range(1, 100)))"
   ]
  },
  {
   "cell_type": "code",
   "execution_count": null,
   "id": "29573655-bd18-4ee4-b5f1-91d630165f62",
   "metadata": {},
   "outputs": [],
   "source": [
    "#WHAT WILL HAPPEN IN THIS CALCULATION IS THAT THIS\n",
    "# for x in range(1, 100):\n",
    "#     if x % 3 == 0:\n",
    "#         total3 += x\n",
    "#WILL ADD ALL THE INTEGERS FROM 1 TO 100 EXCLUDING THE LAST NUMBER WHICH IS 100 TOGETHER AND PRINT THE VALUE AS total3"
   ]
  },
  {
   "cell_type": "code",
   "execution_count": 57,
   "id": "6daf965a-0931-41cf-8374-5fe65ac07561",
   "metadata": {},
   "outputs": [
    {
     "name": "stdout",
     "output_type": "stream",
     "text": [
      "1683\n"
     ]
    }
   ],
   "source": [
    "total3 = 0\n",
    "for x in range(1, 100):\n",
    "    if x % 3 == 0:\n",
    "        total3 += x\n",
    "print(total3)"
   ]
  },
  {
   "cell_type": "code",
   "execution_count": 54,
   "id": "124e48cc-28cb-4409-bcf3-1d19b7ab8a40",
   "metadata": {},
   "outputs": [
    {
     "name": "stdout",
     "output_type": "stream",
     "text": [
      "950\n"
     ]
    }
   ],
   "source": [
    "total4 = 0\n",
    "for x in range(1, 100):\n",
    "    if x % 5 == 0:\n",
    "        total4 += x\n",
    "print(total4)"
   ]
  },
  {
   "cell_type": "code",
   "execution_count": 55,
   "id": "0eb16662-f0c6-4310-a8f8-0cdbaeab89d4",
   "metadata": {},
   "outputs": [
    {
     "name": "stdout",
     "output_type": "stream",
     "text": [
      "950\n"
     ]
    }
   ],
   "source": [
    "print(total4)"
   ]
  },
  {
   "cell_type": "code",
   "execution_count": 58,
   "id": "bb9d971f-6ded-4171-a397-7d2eea982bc9",
   "metadata": {},
   "outputs": [
    {
     "name": "stdout",
     "output_type": "stream",
     "text": [
      "1683\n"
     ]
    }
   ],
   "source": [
    "print(total3)"
   ]
  },
  {
   "cell_type": "code",
   "execution_count": null,
   "id": "074a45f7-91b9-44e9-a572-42c05d060748",
   "metadata": {},
   "outputs": [],
   "source": []
  },
  {
   "cell_type": "code",
   "execution_count": null,
   "id": "8f8f475e-726f-44d4-bcff-131a365ba56f",
   "metadata": {},
   "outputs": [],
   "source": []
  },
  {
   "cell_type": "code",
   "execution_count": null,
   "id": "4c737c65-ad37-4719-8b16-22c3c56c4906",
   "metadata": {},
   "outputs": [],
   "source": [
    "#THE WHILE LOOP"
   ]
  },
  {
   "cell_type": "code",
   "execution_count": 59,
   "id": "57990d00-027e-4ba7-94f3-057a49bd0b3f",
   "metadata": {},
   "outputs": [
    {
     "name": "stdout",
     "output_type": "stream",
     "text": [
      "10\n"
     ]
    }
   ],
   "source": []
  },
  {
   "cell_type": "code",
   "execution_count": null,
   "id": "fee3465b-9d8b-4f3f-a16c-81c58ba1291e",
   "metadata": {},
   "outputs": [],
   "source": [
    "#THE FOR LOOP DOES ALMOST THESAME THING THE WHILE LOOP DOES\n",
    "#BUT WHY SHOULD WE USE WHILE LOOP WHEN IT FOR DOES THESAME THING IT DOES?"
   ]
  },
  {
   "cell_type": "code",
   "execution_count": 61,
   "id": "a4746f14-b96b-4d2e-be12-80d8ce6f066c",
   "metadata": {},
   "outputs": [
    {
     "name": "stdout",
     "output_type": "stream",
     "text": [
      "10\n",
      "17\n"
     ]
    }
   ],
   "source": [
    "total5 = 0\n",
    "j = 1\n",
    "while j < 5:\n",
    "    total5 += j\n",
    "    j += 1\n",
    "print(total5)\n",
    "# what this line of block is saying is that when we get to the while loop, check if j is less than 5\n",
    "# and if j is less than 5 which is true (j = 1) that 1 is less than 5 the do do the folllowing:\n",
    "# then add j to total and add 1 to j\n",
    "\n",
    "# EXAMPLE    0   1  2  3  1   5   6   7   arranged indexly.\n",
    "given_list = [5, 4, 4, 3, 1, -2, -3, -5]\n",
    "# to find the sum of only the positive numbers in this given list.\n",
    "total6 = 0\n",
    "i = 0\n",
    "while given_list[i] > 0:\n",
    "    total6 += given_list[i]\n",
    "    i += 1\n",
    "print(total6)\n",
    "    "
   ]
  },
  {
   "cell_type": "code",
   "execution_count": 62,
   "id": "af981f32-21f4-45c2-8a04-2488926b0f87",
   "metadata": {},
   "outputs": [
    {
     "ename": "IndexError",
     "evalue": "list index out of range",
     "output_type": "error",
     "traceback": [
      "\u001b[1;31m---------------------------------------------------------------------------\u001b[0m",
      "\u001b[1;31mIndexError\u001b[0m                                Traceback (most recent call last)",
      "\u001b[1;32m~\\AppData\\Local\\Temp/ipykernel_14048/1877109015.py\u001b[0m in \u001b[0;36m<module>\u001b[1;34m\u001b[0m\n\u001b[0;32m      3\u001b[0m \u001b[0mtotal6\u001b[0m \u001b[1;33m=\u001b[0m \u001b[1;36m0\u001b[0m\u001b[1;33m\u001b[0m\u001b[1;33m\u001b[0m\u001b[0m\n\u001b[0;32m      4\u001b[0m \u001b[0mi\u001b[0m \u001b[1;33m=\u001b[0m \u001b[1;36m0\u001b[0m\u001b[1;33m\u001b[0m\u001b[1;33m\u001b[0m\u001b[0m\n\u001b[1;32m----> 5\u001b[1;33m \u001b[1;32mwhile\u001b[0m \u001b[0mgiven_list\u001b[0m\u001b[1;33m[\u001b[0m\u001b[0mi\u001b[0m\u001b[1;33m]\u001b[0m \u001b[1;33m>\u001b[0m \u001b[1;36m0\u001b[0m\u001b[1;33m:\u001b[0m\u001b[1;33m\u001b[0m\u001b[1;33m\u001b[0m\u001b[0m\n\u001b[0m\u001b[0;32m      6\u001b[0m     \u001b[0mtotal6\u001b[0m \u001b[1;33m+=\u001b[0m \u001b[0mgiven_list\u001b[0m\u001b[1;33m[\u001b[0m\u001b[0mi\u001b[0m\u001b[1;33m]\u001b[0m\u001b[1;33m\u001b[0m\u001b[1;33m\u001b[0m\u001b[0m\n\u001b[0;32m      7\u001b[0m     \u001b[0mi\u001b[0m \u001b[1;33m+=\u001b[0m \u001b[1;36m1\u001b[0m\u001b[1;33m\u001b[0m\u001b[1;33m\u001b[0m\u001b[0m\n",
      "\u001b[1;31mIndexError\u001b[0m: list index out of range"
     ]
    }
   ],
   "source": [
    "# This will give out an error output because the index of the numbers is not up to 5\n",
    "\n",
    "# EXAMPLE     0  1  2  3  4   5   6   7   arranged indexly.\n",
    "given_list = [5, 4, 4, 3, 1,]\n",
    "# to find the sum of only the positive numbers in this given list.\n",
    "total6 = 0\n",
    "i = 0\n",
    "while given_list[i] > 0:\n",
    "    total6 += given_list[i]\n",
    "    i += 1\n",
    "    print(total6)\n",
    "    "
   ]
  },
  {
   "cell_type": "code",
   "execution_count": null,
   "id": "61014192-fc60-4c48-a385-a2a75d080570",
   "metadata": {},
   "outputs": [],
   "source": []
  }
 ],
 "metadata": {
  "interpreter": {
   "hash": "a077222d77dfe082b8f1dd562ad70e458ac2ab76993a0b248ab0476e32e9e8dd"
  },
  "kernelspec": {
   "display_name": "Python 3.9.7 ('base')",
   "language": "python",
   "name": "python3"
  },
  "language_info": {
   "codemirror_mode": {
    "name": "ipython",
    "version": 3
   },
   "file_extension": ".py",
   "mimetype": "text/x-python",
   "name": "python",
   "nbconvert_exporter": "python",
   "pygments_lexer": "ipython3",
   "version": "3.9.7"
  }
 },
 "nbformat": 4,
 "nbformat_minor": 5
}
