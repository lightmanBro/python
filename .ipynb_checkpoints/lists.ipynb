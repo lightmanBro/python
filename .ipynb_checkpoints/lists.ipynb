{
 "cells": [
  {
   "cell_type": "code",
   "execution_count": 1,
   "id": "46cb5764-c374-45c6-9426-00f9aa1c3c8a",
   "metadata": {},
   "outputs": [],
   "source": [
    "#creating an object list in python\n",
    "a = [3, 10, -1]"
   ]
  },
  {
   "cell_type": "code",
   "execution_count": 2,
   "id": "c9714d91-34ff-4e20-9066-4e709a0b1c10",
   "metadata": {},
   "outputs": [
    {
     "name": "stdout",
     "output_type": "stream",
     "text": [
      "[3, 10, -1]\n"
     ]
    }
   ],
   "source": [
    "print(a)"
   ]
  },
  {
   "cell_type": "code",
   "execution_count": 4,
   "id": "bf5ab783-cd2d-48a4-81d5-d46903c1f661",
   "metadata": {},
   "outputs": [],
   "source": [
    "# to add items to the list (append is basically a predefined function that can be used on the data types)\n",
    "a.append(1)"
   ]
  },
  {
   "cell_type": "code",
   "execution_count": 5,
   "id": "1fe7ebac-3c39-4db8-a9d5-d71876433dbb",
   "metadata": {},
   "outputs": [
    {
     "name": "stdout",
     "output_type": "stream",
     "text": [
      "[3, 10, -1, 1, 1]\n"
     ]
    }
   ],
   "source": [
    "print(a)"
   ]
  },
  {
   "cell_type": "code",
   "execution_count": 72,
   "id": "4b565c1a-49f3-48f5-807e-e07df7c3759f",
   "metadata": {},
   "outputs": [],
   "source": [
    "#appending other data types to (a) e.g a stering \" \"\n",
    "a.append(50)"
   ]
  },
  {
   "cell_type": "code",
   "execution_count": 73,
   "id": "c19412d3-a71f-429b-b8bf-9ebced9e621b",
   "metadata": {},
   "outputs": [
    {
     "name": "stdout",
     "output_type": "stream",
     "text": [
      "[3, 10, 'not anymore', 200, 'good morning', 50]\n"
     ]
    }
   ],
   "source": [
    "print(a)"
   ]
  },
  {
   "cell_type": "code",
   "execution_count": 9,
   "id": "96afc60c-25ec-4aa4-b223-7dbbe4969cbb",
   "metadata": {},
   "outputs": [
    {
     "name": "stdout",
     "output_type": "stream",
     "text": [
      "[3, 10, -1, 1, 1, 'good morning', [3, 7]]\n"
     ]
    }
   ],
   "source": [
    "# appending a list inside a list\n",
    "a.append([3, 7])\n",
    "print(a)"
   ]
  },
  {
   "cell_type": "code",
   "execution_count": null,
   "id": "b5eac765-ed98-4b2b-accf-1cd37880aaed",
   "metadata": {},
   "outputs": [],
   "source": [
    "DELETING AN INPUT WE USE .POP"
   ]
  },
  {
   "cell_type": "code",
   "execution_count": 10,
   "id": "ce7bbfe0-64cf-4001-aeac-c8cda7103601",
   "metadata": {},
   "outputs": [
    {
     "data": {
      "text/plain": [
       "[3, 7]"
      ]
     },
     "execution_count": 10,
     "metadata": {},
     "output_type": "execute_result"
    }
   ],
   "source": [
    "# to delete .pop\n",
    "a.pop()"
   ]
  },
  {
   "cell_type": "code",
   "execution_count": 1,
   "id": "93f70696-e97d-4b8c-b7cd-27dee4710af7",
   "metadata": {},
   "outputs": [
    {
     "ename": "NameError",
     "evalue": "name 'a' is not defined",
     "output_type": "error",
     "traceback": [
      "\u001b[1;31m---------------------------------------------------------------------------\u001b[0m",
      "\u001b[1;31mNameError\u001b[0m                                 Traceback (most recent call last)",
      "\u001b[1;32m~\\AppData\\Local\\Temp/ipykernel_11700/1939634565.py\u001b[0m in \u001b[0;36m<module>\u001b[1;34m\u001b[0m\n\u001b[1;32m----> 1\u001b[1;33m \u001b[0ma\u001b[0m\u001b[1;33m.\u001b[0m\u001b[0mappend\u001b[0m\u001b[1;33m(\u001b[0m\u001b[1;34m\"hello\"\u001b[0m \u001b[1;33m*\u001b[0m \u001b[1;36m2\u001b[0m\u001b[1;33m)\u001b[0m\u001b[1;33m\u001b[0m\u001b[1;33m\u001b[0m\u001b[0m\n\u001b[0m\u001b[0;32m      2\u001b[0m \u001b[0mprint\u001b[0m\u001b[1;33m(\u001b[0m\u001b[0ma\u001b[0m\u001b[1;33m)\u001b[0m\u001b[1;33m\u001b[0m\u001b[1;33m\u001b[0m\u001b[0m\n",
      "\u001b[1;31mNameError\u001b[0m: name 'a' is not defined"
     ]
    }
   ],
   "source": [
    "a.append(\"hello\" * 2) \n",
    "print(a)\n"
   ]
  },
  {
   "cell_type": "code",
   "execution_count": 13,
   "id": "4ba54886-a916-4498-a8e7-3f02c70eb6ed",
   "metadata": {},
   "outputs": [
    {
     "name": "stdout",
     "output_type": "stream",
     "text": [
      "[3, 10, -1, 1, 1, 'good morning', 'hello', 'hello', ['we are all here ']]\n"
     ]
    }
   ],
   "source": [
    "a.append([\"we are all here \"])\n",
    "print(a)"
   ]
  },
  {
   "cell_type": "code",
   "execution_count": null,
   "id": "9007037b-e772-48ce-831b-35297d4626e1",
   "metadata": {},
   "outputs": [
    {
     "name": "stdout",
     "output_type": "stream",
     "text": [
      "[3, 10, -1, 1, 1, 'good morning', 'hello', ['we are all here ']]\n"
     ]
    }
   ],
   "source": [
    "a.pop(6)\n",
    "print(a)"
   ]
  },
  {
   "cell_type": "code",
   "execution_count": 2,
   "id": "c18a5f0e-d9b1-4fed-827e-a244088f98cb",
   "metadata": {},
   "outputs": [
    {
     "ename": "NameError",
     "evalue": "name 'a' is not defined",
     "output_type": "error",
     "traceback": [
      "\u001b[1;31m---------------------------------------------------------------------------\u001b[0m",
      "\u001b[1;31mNameError\u001b[0m                                 Traceback (most recent call last)",
      "\u001b[1;32m~\\AppData\\Local\\Temp/ipykernel_11700/1406873974.py\u001b[0m in \u001b[0;36m<module>\u001b[1;34m\u001b[0m\n\u001b[1;32m----> 1\u001b[1;33m \u001b[0ma\u001b[0m\u001b[1;33m.\u001b[0m\u001b[0mpop\u001b[0m\u001b[1;33m(\u001b[0m\u001b[1;36m2\u001b[0m\u001b[1;33m)\u001b[0m\u001b[1;33m\u001b[0m\u001b[1;33m\u001b[0m\u001b[0m\n\u001b[0m\u001b[0;32m      2\u001b[0m \u001b[0ma\u001b[0m\u001b[1;33m.\u001b[0m\u001b[0mpop\u001b[0m\u001b[1;33m(\u001b[0m\u001b[1;36m3\u001b[0m\u001b[1;33m)\u001b[0m\u001b[1;33m\u001b[0m\u001b[1;33m\u001b[0m\u001b[0m\n\u001b[0;32m      3\u001b[0m \u001b[0ma\u001b[0m\u001b[1;33m.\u001b[0m\u001b[0mpop\u001b[0m\u001b[1;33m(\u001b[0m\u001b[1;36m4\u001b[0m\u001b[1;33m)\u001b[0m\u001b[1;33m\u001b[0m\u001b[1;33m\u001b[0m\u001b[0m\n\u001b[0;32m      4\u001b[0m \u001b[0mprint\u001b[0m\u001b[1;33m(\u001b[0m\u001b[0ma\u001b[0m\u001b[1;33m)\u001b[0m\u001b[1;33m\u001b[0m\u001b[1;33m\u001b[0m\u001b[0m\n",
      "\u001b[1;31mNameError\u001b[0m: name 'a' is not defined"
     ]
    }
   ],
   "source": [
    "a.pop(2)\n",
    "a.pop(3)\n",
    "a.pop(4)\n",
    "print(a)"
   ]
  },
  {
   "cell_type": "code",
   "execution_count": null,
   "id": "63b18472-a64c-44c0-9efe-f39296683d95",
   "metadata": {},
   "outputs": [],
   "source": [
    "RETRIEVING AN ITEM FROM THE LIST"
   ]
  },
  {
   "cell_type": "code",
   "execution_count": 75,
   "id": "45cf0528-c82d-4876-93e4-fb709e9c4340",
   "metadata": {},
   "outputs": [
    {
     "name": "stdout",
     "output_type": "stream",
     "text": [
      "200\n"
     ]
    }
   ],
   "source": [
    "a[3]\n",
    "print(a[3])"
   ]
  },
  {
   "cell_type": "code",
   "execution_count": 76,
   "id": "3888d8cf-3ebe-411a-9f49-1f2ae5824bbf",
   "metadata": {},
   "outputs": [
    {
     "ename": "SyntaxError",
     "evalue": "invalid syntax (Temp/ipykernel_9660/976440972.py, line 1)",
     "output_type": "error",
     "traceback": [
      "\u001b[1;36m  File \u001b[1;32m\"C:\\Users\\user\\AppData\\Local\\Temp/ipykernel_9660/976440972.py\"\u001b[1;36m, line \u001b[1;32m1\u001b[0m\n\u001b[1;33m    CHANGING THE CONTENTS OF A LIST\u001b[0m\n\u001b[1;37m             ^\u001b[0m\n\u001b[1;31mSyntaxError\u001b[0m\u001b[1;31m:\u001b[0m invalid syntax\n"
     ]
    }
   ],
   "source": [
    "CHANGING THE CONTENTS OF A LIST"
   ]
  },
  {
   "cell_type": "code",
   "execution_count": 77,
   "id": "467c3a19-e452-4b9c-a944-753d342ab712",
   "metadata": {},
   "outputs": [
    {
     "name": "stdout",
     "output_type": "stream",
     "text": [
      "[3, 10, 'not anymore', 200, 'good morning', 50]\n"
     ]
    }
   ],
   "source": [
    "a[3] = 200\n",
    "print(a)"
   ]
  },
  {
   "cell_type": "code",
   "execution_count": 78,
   "id": "34fe43f9-0742-4e93-b62e-4007ed4fa422",
   "metadata": {},
   "outputs": [
    {
     "name": "stdout",
     "output_type": "stream",
     "text": [
      "[3, 10, 'not anymore', 200, 'good morning', 50]\n"
     ]
    }
   ],
   "source": [
    "a[2] = \"not anymore\"\n",
    "print(a)"
   ]
  },
  {
   "cell_type": "code",
   "execution_count": null,
   "id": "544322f3-838f-4cfc-94df-53e87b772218",
   "metadata": {},
   "outputs": [],
   "source": [
    "SWAPPING VALUES OF A LIST"
   ]
  },
  {
   "cell_type": "code",
   "execution_count": 80,
   "id": "6d621ca8-2f8e-45f1-89f4-bdc99805eb09",
   "metadata": {},
   "outputs": [
    {
     "name": "stdout",
     "output_type": "stream",
     "text": [
      "['microsoft', 'apple', 'banana']\n"
     ]
    }
   ],
   "source": [
    "b = [\"banana\", \"apple\", \"microsoft\"]\n",
    "temp = b[0]\n",
    "b[0] = b[2]\n",
    "b[2] = temp\n",
    "print(b)"
   ]
  },
  {
   "cell_type": "code",
   "execution_count": 81,
   "id": "9872d857-bc81-4fc4-bb54-4dc75682d878",
   "metadata": {},
   "outputs": [
    {
     "name": "stdout",
     "output_type": "stream",
     "text": [
      "['monday', 'tuesday', 'wednessday']\n"
     ]
    }
   ],
   "source": [
    "c = [\"monday\", \"tuesday\", \"wednessday\"]\n",
    "print(c)"
   ]
  },
  {
   "cell_type": "code",
   "execution_count": 82,
   "id": "b2ac3f26-f13c-4bf8-be8d-38f71df90e07",
   "metadata": {},
   "outputs": [
    {
     "name": "stdout",
     "output_type": "stream",
     "text": [
      "['wednessday', 'tuesday', 'monday']\n"
     ]
    }
   ],
   "source": [
    "temp = c[0]\n",
    "c[0] = c[2]\n",
    "c[2] = temp\n",
    "print(c)\n"
   ]
  },
  {
   "cell_type": "code",
   "execution_count": 32,
   "id": "30cbe87b-c5d5-4324-87af-243c94569b08",
   "metadata": {},
   "outputs": [
    {
     "name": "stdout",
     "output_type": "stream",
     "text": [
      "['tuesday', 'monday', 'wednessday']\n"
     ]
    }
   ],
   "source": [
    "temp = c[1]\n",
    "c[1] = c[2]\n",
    "c[2] = temp\n",
    "print(c)"
   ]
  },
  {
   "cell_type": "code",
   "execution_count": 33,
   "id": "b0ea3234-a7bd-46cb-8c6d-33c383addcab",
   "metadata": {},
   "outputs": [
    {
     "name": "stdout",
     "output_type": "stream",
     "text": [
      "['tuesday', 'wednessday', 'monday']\n"
     ]
    }
   ],
   "source": [
    "temp = c[2]\n",
    "c[2] = c[1]\n",
    "c[1] = temp\n",
    "print(c)"
   ]
  },
  {
   "cell_type": "code",
   "execution_count": 34,
   "id": "958cf707-f9f0-4088-b023-2f847970f78f",
   "metadata": {},
   "outputs": [
    {
     "name": "stdout",
     "output_type": "stream",
     "text": [
      "['tuesday', 'wednessday', 'monday']\n"
     ]
    }
   ],
   "source": [
    "print(c)"
   ]
  },
  {
   "cell_type": "code",
   "execution_count": 35,
   "id": "9f42d004-4297-4c40-b02b-2ecff2c798c2",
   "metadata": {},
   "outputs": [
    {
     "name": "stdout",
     "output_type": "stream",
     "text": [
      "['tuesday', 'wednessday', 'monday', 2]\n"
     ]
    }
   ],
   "source": [
    "c.append(2)\n",
    "print(c)"
   ]
  },
  {
   "cell_type": "code",
   "execution_count": 36,
   "id": "959611a3-a91e-4df6-a195-20847de3c619",
   "metadata": {},
   "outputs": [
    {
     "name": "stdout",
     "output_type": "stream",
     "text": [
      "['tuesday', 'wednessday', 'monday', 2, 'thursday', ['friday and saturday']]\n"
     ]
    }
   ],
   "source": [
    "c.append(\"thursday\")\n",
    "c.append([\"friday and saturday\"])\n",
    "print(c)"
   ]
  },
  {
   "cell_type": "code",
   "execution_count": 43,
   "id": "addcc38d-5dc9-42b0-b8c1-4d93da8cb1a5",
   "metadata": {},
   "outputs": [
    {
     "name": "stdout",
     "output_type": "stream",
     "text": [
      "['monday', 'tuesday', 'wednessday', 2, 'thursday', ['friday and saturday']]\n"
     ]
    }
   ],
   "source": [
    "temp = c[2]\n",
    "c[2] = c[1]\n",
    "c[1] = temp\n",
    "print(c)"
   ]
  },
  {
   "cell_type": "code",
   "execution_count": 44,
   "id": "7640aaea-0f8c-46bf-a54b-1fcab7cd378e",
   "metadata": {},
   "outputs": [
    {
     "name": "stdout",
     "output_type": "stream",
     "text": [
      "['monday', 'tuesday', 'wednessday', 'thursday', 2, ['friday and saturday']]\n"
     ]
    }
   ],
   "source": [
    "temp = c[4]\n",
    "c[4] = c[3]\n",
    "c[3] = temp\n",
    "print(c)"
   ]
  },
  {
   "cell_type": "code",
   "execution_count": 45,
   "id": "3f3d968b-3d3d-4079-b94a-d90a798522c4",
   "metadata": {},
   "outputs": [
    {
     "name": "stdout",
     "output_type": "stream",
     "text": [
      "['monday', 'tuesday', 'wednessday', 'thursday', ['friday and saturday'], 2]\n"
     ]
    }
   ],
   "source": [
    "temp = c[5]\n",
    "c[5] = c[4]\n",
    "c[4] = temp\n",
    "print(c)"
   ]
  },
  {
   "cell_type": "code",
   "execution_count": null,
   "id": "a2f193f7-04d6-4829-9060-ab0a46166585",
   "metadata": {},
   "outputs": [],
   "source": [
    "ANOTHER SIMPLER SWAPPING METHOD"
   ]
  },
  {
   "cell_type": "code",
   "execution_count": 48,
   "id": "71956d7f-95e1-4e85-911a-984bf510ed3e",
   "metadata": {},
   "outputs": [
    {
     "name": "stdout",
     "output_type": "stream",
     "text": [
      "['banana', 'apple', 'microsoft']\n"
     ]
    }
   ],
   "source": [
    "b[0], b[2] = b[2], b[0]\n",
    "print(b)"
   ]
  },
  {
   "cell_type": "code",
   "execution_count": 49,
   "id": "4d4e28bc-f9be-47a2-a9d3-3d5fb35601d7",
   "metadata": {},
   "outputs": [
    {
     "name": "stdout",
     "output_type": "stream",
     "text": [
      "['monday', 'tuesday', 'wednessday', 'thursday', 2, ['friday and saturday']]\n"
     ]
    }
   ],
   "source": [
    "c[5], c[4] = c[4], c[5]\n",
    "print(c)"
   ]
  },
  {
   "cell_type": "code",
   "execution_count": 53,
   "id": "fecff013-6138-4d20-b9fa-0e3c54096ab3",
   "metadata": {},
   "outputs": [],
   "source": [
    "p=list(range(1,20))"
   ]
  },
  {
   "cell_type": "code",
   "execution_count": 54,
   "id": "696eba2c-9717-44dd-8d78-c1f85a7071ac",
   "metadata": {},
   "outputs": [
    {
     "name": "stdout",
     "output_type": "stream",
     "text": [
      "[1, 2, 3, 4, 5, 6, 7, 8, 9, 10, 11, 12, 13, 14, 15, 16, 17, 18, 19]\n"
     ]
    }
   ],
   "source": [
    "print(p)"
   ]
  },
  {
   "cell_type": "code",
   "execution_count": 57,
   "id": "af55635f-73ca-491f-9d02-63af396b3ce6",
   "metadata": {},
   "outputs": [
    {
     "data": {
      "text/plain": [
       "12"
      ]
     },
     "execution_count": 57,
     "metadata": {},
     "output_type": "execute_result"
    }
   ],
   "source": [
    "p.pop(10)"
   ]
  },
  {
   "cell_type": "code",
   "execution_count": 58,
   "id": "70dc0578-f7b7-4e53-9461-c93e69dc68c4",
   "metadata": {},
   "outputs": [
    {
     "name": "stdout",
     "output_type": "stream",
     "text": [
      "[1, 2, 3, 4, 5, 6, 7, 8, 9, 10, 13, 14, 15, 16, 17, 18, 19]\n"
     ]
    }
   ],
   "source": [
    "print(p)"
   ]
  },
  {
   "cell_type": "code",
   "execution_count": 65,
   "id": "1d3765b4-39ee-4115-bf4e-49b0a1f9755b",
   "metadata": {},
   "outputs": [
    {
     "name": "stdout",
     "output_type": "stream",
     "text": [
      "[1, 2, 3, 4, 5, 6, 7, 8, 9, 10, 13, 14, 15, 16, 17, 18, 19, 'monday', 'monday, tuesday']\n"
     ]
    }
   ],
   "source": [
    "print(p)"
   ]
  },
  {
   "cell_type": "code",
   "execution_count": 67,
   "id": "539fbbdf-bcb1-42d7-890d-62bfe51598c6",
   "metadata": {},
   "outputs": [
    {
     "data": {
      "text/plain": [
       "'monday'"
      ]
     },
     "execution_count": 67,
     "metadata": {},
     "output_type": "execute_result"
    }
   ],
   "source": [
    "p.pop(17)"
   ]
  },
  {
   "cell_type": "code",
   "execution_count": 68,
   "id": "9d3d3f98-5ff4-4d0a-ab63-8ac578991ce7",
   "metadata": {},
   "outputs": [
    {
     "name": "stdout",
     "output_type": "stream",
     "text": [
      "[1, 2, 3, 4, 5, 6, 7, 8, 9, 10, 13, 14, 15, 16, 17, 18, 19, 'monday, tuesday']\n"
     ]
    }
   ],
   "source": [
    "print(p)"
   ]
  },
  {
   "cell_type": "code",
   "execution_count": null,
   "id": "d7160111-bb01-4c6b-a314-7b8167a4f38a",
   "metadata": {},
   "outputs": [],
   "source": []
  }
 ],
 "metadata": {
  "kernelspec": {
   "display_name": "Python 3.10.8 64-bit (microsoft store)",
   "language": "python",
   "name": "python3"
  },
  "language_info": {
   "codemirror_mode": {
    "name": "ipython",
    "version": 3
   },
   "file_extension": ".py",
   "mimetype": "text/x-python",
   "name": "python",
   "nbconvert_exporter": "python",
   "pygments_lexer": "ipython3",
   "version": "3.10.8"
  },
  "vscode": {
   "interpreter": {
    "hash": "e1fcfcc8cd63d82bffa0558588c9dba0fa98af0d2db9cdb89276865fb72572f2"
   }
  }
 },
 "nbformat": 4,
 "nbformat_minor": 5
}
