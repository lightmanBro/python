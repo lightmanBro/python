{
 "cells": [
  {
   "cell_type": "code",
   "execution_count": null,
   "id": "0db16b0c-e4a8-4340-85ff-ff4ea177491c",
   "metadata": {},
   "outputs": [],
   "source": [
    "def function():\n",
    "    print(\"ahhhh\")\n",
    "    print(\"ahhhh 2\")\n",
    "    \n",
    "print(\"this is outside the function\")"
   ]
  },
  {
   "cell_type": "code",
   "execution_count": 169,
   "id": "59bd1f1f-ca30-4c01-b411-df4d125b50e2",
   "metadata": {},
   "outputs": [
    {
     "name": "stdout",
     "output_type": "stream",
     "text": [
      "ahhhh\n",
      "ahhhh 2\n"
     ]
    }
   ],
   "source": [
    "function()"
   ]
  },
  {
   "cell_type": "code",
   "execution_count": 19,
   "id": "459489aa-da88-41dd-b40e-fcd22923728f",
   "metadata": {},
   "outputs": [
    {
     "name": "stdout",
     "output_type": "stream",
     "text": [
      "200.0\n",
      "56.0\n"
     ]
    }
   ],
   "source": [
    "def function(book, pen):\n",
    "    return book * pen /5\n",
    "    \n",
    "book = function(20, 50);\n",
    "pen  = function(70, 4);\n",
    "print(book)\n",
    "print(pen)"
   ]
  },
  {
   "cell_type": "code",
   "execution_count": 6,
   "id": "98728e44-9c67-4d06-82c4-5e852311a4aa",
   "metadata": {},
   "outputs": [],
   "source": [
    "def function1(x):\n",
    "    return 2*x\n"
   ]
  },
  {
   "cell_type": "code",
   "execution_count": 172,
   "id": "282374cd-eb66-42a7-bc82-76c87f3f992d",
   "metadata": {},
   "outputs": [],
   "source": [
    "a = function1(3)"
   ]
  },
  {
   "cell_type": "code",
   "execution_count": 173,
   "id": "7b008d51-f0c5-45fe-ba76-ac01de85942b",
   "metadata": {},
   "outputs": [
    {
     "name": "stdout",
     "output_type": "stream",
     "text": [
      "6\n"
     ]
    }
   ],
   "source": [
    "print(a)"
   ]
  },
  {
   "cell_type": "code",
   "execution_count": 174,
   "id": "c4907cea-f806-4283-89c2-ed2492979e0e",
   "metadata": {},
   "outputs": [],
   "source": [
    "b = function1(4)"
   ]
  },
  {
   "cell_type": "code",
   "execution_count": 175,
   "id": "ff03ddc2-9de2-4779-bd18-0519551b4196",
   "metadata": {},
   "outputs": [
    {
     "name": "stdout",
     "output_type": "stream",
     "text": [
      "8\n"
     ]
    }
   ],
   "source": [
    "print(b)"
   ]
  },
  {
   "cell_type": "code",
   "execution_count": 176,
   "id": "3e6c4544-ef65-43a9-b2e8-3e381e307772",
   "metadata": {},
   "outputs": [],
   "source": [
    "c = function1(5)"
   ]
  },
  {
   "cell_type": "code",
   "execution_count": 177,
   "id": "254b6749-4885-413f-8dd0-04ff95ec3197",
   "metadata": {},
   "outputs": [
    {
     "name": "stdout",
     "output_type": "stream",
     "text": [
      "10\n"
     ]
    }
   ],
   "source": [
    "print(c)"
   ]
  },
  {
   "cell_type": "code",
   "execution_count": null,
   "id": "775da39a-88fe-4271-8a59-f158f259e1bd",
   "metadata": {},
   "outputs": [],
   "source": [
    "def function2(x, y):\n",
    "    return x+y"
   ]
  },
  {
   "cell_type": "code",
   "execution_count": 178,
   "id": "f5f3bb74-710d-444a-9835-b2a859adda43",
   "metadata": {},
   "outputs": [
    {
     "name": "stdout",
     "output_type": "stream",
     "text": [
      "8\n"
     ]
    }
   ],
   "source": [
    "e = function2(3, 5)\n",
    "print(e)"
   ]
  },
  {
   "cell_type": "code",
   "execution_count": 179,
   "id": "93e0c6ba-3095-447a-9ebb-7b7497ed9b5d",
   "metadata": {},
   "outputs": [],
   "source": [
    "def function3(x):\n",
    "    print(x)\n",
    "    print(\"still in this function\")\n",
    "    print(\"this game is over for you all boys\")\n",
    "    print(\"please check out as soon as possible\")\n",
    "    print(\"ahhh ahhh ahhh ahhh ahhh\")\n",
    "    return 3*x"
   ]
  },
  {
   "cell_type": "code",
   "execution_count": 180,
   "id": "b779c7a4-bd58-45a1-8d70-f0bc4591f1df",
   "metadata": {},
   "outputs": [
    {
     "name": "stdout",
     "output_type": "stream",
     "text": [
      "4\n",
      "still in this function\n",
      "this game is over for you all boys\n",
      "please check out as soon as possible\n",
      "ahhh ahhh ahhh ahhh ahhh\n"
     ]
    }
   ],
   "source": [
    "f = function3(4)"
   ]
  },
  {
   "cell_type": "code",
   "execution_count": 181,
   "id": "3e902077-ac84-42e1-b869-421894688443",
   "metadata": {},
   "outputs": [
    {
     "name": "stdout",
     "output_type": "stream",
     "text": [
      "12\n"
     ]
    }
   ],
   "source": [
    "print(f)"
   ]
  },
  {
   "cell_type": "code",
   "execution_count": 182,
   "id": "d15166f1-e1a7-4e34-9b3b-944d3dbc83b0",
   "metadata": {},
   "outputs": [],
   "source": [
    "def function4(some_mistakes):\n",
    "    print(\"you have all screwed the fuck up boys\")\n",
    "    print(\"wow what a tragedy\") #note this function has no return value so if the function is called it will just return the value declared in the function"
   ]
  },
  {
   "cell_type": "code",
   "execution_count": 183,
   "id": "f3a019b5-5541-4143-8d0a-b25445d8011b",
   "metadata": {},
   "outputs": [
    {
     "name": "stdout",
     "output_type": "stream",
     "text": [
      "you have all screwed the fuck up boys\n",
      "wow what a tragedy\n"
     ]
    }
   ],
   "source": [
    "function4(4)"
   ]
  },
  {
   "cell_type": "code",
   "execution_count": 184,
   "id": "36b56478-aad3-4551-b88d-556518ed084f",
   "metadata": {},
   "outputs": [
    {
     "name": "stdout",
     "output_type": "stream",
     "text": [
      "you have all screwed the fuck up boys\n",
      "wow what a tragedy\n"
     ]
    }
   ],
   "source": [
    "function4(2)"
   ]
  },
  {
   "cell_type": "code",
   "execution_count": 225,
   "id": "192f025a-be22-4f0f-8ee2-3d3e045156d6",
   "metadata": {},
   "outputs": [
    {
     "name": "stdout",
     "output_type": "stream",
     "text": [
      "12\n"
     ]
    }
   ],
   "source": [
    "# another example of the function \n",
    "def function4(x,p):\n",
    "    return 7 + x\n",
    "o = function4(5,2)\n",
    "print(o)\n"
   ]
  },
  {
   "cell_type": "code",
   "execution_count": 220,
   "id": "9dd4a407-daec-4a5d-b23b-8be999ead3c8",
   "metadata": {},
   "outputs": [
    {
     "name": "stdout",
     "output_type": "stream",
     "text": [
      "4\n"
     ]
    }
   ],
   "source": [
    "print(g)"
   ]
  },
  {
   "cell_type": "code",
   "execution_count": 187,
   "id": "cdd95420-a6c0-40f2-8fc1-d2f6d81c8d0d",
   "metadata": {},
   "outputs": [],
   "source": [
    "# bmi calculator\n",
    "name1 = \"okikiola \"\n",
    "height_m1 = 2\n",
    "weight_kg1 = 90\n",
    "\n",
    "name2 = \"olaromade's brother \"\n",
    "height_m2 = 1.8\n",
    "weight_kg2 = 70\n",
    "\n",
    "name3 = \"okikiola's brother \"\n",
    "height_m3 = 2.5\n",
    "weight_kg3 = 160"
   ]
  },
  {
   "cell_type": "code",
   "execution_count": 257,
   "id": "dfa3e057-e6fa-4787-b45d-7f03b06d743d",
   "metadata": {},
   "outputs": [
    {
     "name": "stdout",
     "output_type": "stream",
     "text": [
      "bmi: \n",
      "22.5\n",
      "bmi: \n",
      "21.604938271604937\n",
      "bmi: \n",
      "25.6\n",
      "okikiola  is not overweight\n",
      "olaromade's brother  is not overweight\n",
      "okikiola's brother  is overweight\n"
     ]
    }
   ],
   "source": [
    "def bmi_calculator(name, height_m, weight_kg):\n",
    "    bmi = weight_kg / (height_m ** 2)\n",
    "    print(\"bmi: \")\n",
    "    print(bmi)\n",
    "    if bmi < 25:\n",
    "        return name + \" is not overweight\"\n",
    "    else:\n",
    "        return name + \" is overweight\"\n",
    "result1 = bmi_calculator(name1, height_m1, weight_kg1)\n",
    "result2 = bmi_calculator(name2, height_m2, weight_kg2)\n",
    "result3 = bmi_calculator(name3, height_m3, weight_kg3)\n",
    "print(result1)\n",
    "print(result2)\n",
    "print(result3)"
   ]
  },
  {
   "cell_type": "code",
   "execution_count": null,
   "id": "65526ce3-a645-44dc-93d7-4c320809b8c3",
   "metadata": {},
   "outputs": [],
   "source": []
  },
  {
   "cell_type": "code",
   "execution_count": null,
   "id": "8b6afc1f-3f54-4e2d-95b6-5093c17b8e92",
   "metadata": {},
   "outputs": [],
   "source": []
  },
  {
   "cell_type": "code",
   "execution_count": null,
   "id": "5ae0185d-0007-4a69-9aec-957346000807",
   "metadata": {},
   "outputs": [],
   "source": []
  },
  {
   "cell_type": "code",
   "execution_count": 256,
   "id": "51711b50-541c-405b-af4b-a9ce0674d0df",
   "metadata": {},
   "outputs": [
    {
     "name": "stdout",
     "output_type": "stream",
     "text": [
      "kilometer:  1.0\n",
      " 1 kilometer is equal 1000 meter\n"
     ]
    }
   ],
   "source": [
    "# miles to kilometer calculator\n",
    "name = \"kilometer\"\n",
    "km = 1\n",
    "m = 1000\n",
    "def kilometer_calculator(name, km, m):\n",
    "    kilometer = m / 1000\n",
    "    print(\"kilometer: \", kilometer)\n",
    "    if kilometer == 1:\n",
    "        return \" 1 kilometer is equal 1000 meter\"\n",
    "    else:\n",
    "        return name + \" is not equal to 1000 meter\"\n",
    "result1 = kilometer_calculator(name, km, m)\n",
    "print(result1)\n"
   ]
  },
  {
   "cell_type": "code",
   "execution_count": 237,
   "id": "fd3ab908-7f2a-4a78-b755-d4cc11d35b36",
   "metadata": {},
   "outputs": [
    {
     "name": "stdout",
     "output_type": "stream",
     "text": [
      "kilometer: \n",
      "0.0\n"
     ]
    }
   ],
   "source": []
  },
  {
   "cell_type": "code",
   "execution_count": 238,
   "id": "6fd3d9eb-fb34-4563-a7b6-d2718757fd39",
   "metadata": {},
   "outputs": [
    {
     "name": "stdout",
     "output_type": "stream",
     "text": [
      "kilometer is not equal to 1000 meter\n"
     ]
    }
   ],
   "source": []
  },
  {
   "cell_type": "code",
   "execution_count": 141,
   "id": "99d7bb25-7b91-4642-b862-356b431c8646",
   "metadata": {},
   "outputs": [
    {
     "ename": "NameError",
     "evalue": "name 'raw_input' is not defined",
     "output_type": "error",
     "traceback": [
      "\u001b[1;31m---------------------------------------------------------------------------\u001b[0m",
      "\u001b[1;31mNameError\u001b[0m                                 Traceback (most recent call last)",
      "\u001b[1;32m~\\AppData\\Local\\Temp/ipykernel_3288/358604738.py\u001b[0m in \u001b[0;36m<module>\u001b[1;34m\u001b[0m\n\u001b[0;32m      1\u001b[0m \u001b[1;32mimport\u001b[0m \u001b[0msys\u001b[0m\u001b[1;33m\u001b[0m\u001b[1;33m\u001b[0m\u001b[0m\n\u001b[1;32m----> 2\u001b[1;33m \u001b[0mtarget_int\u001b[0m\u001b[1;33m=\u001b[0m\u001b[0mraw_input\u001b[0m\u001b[1;33m(\u001b[0m\u001b[1;34m\"how many integers?\"\u001b[0m\u001b[1;33m)\u001b[0m\u001b[1;33m\u001b[0m\u001b[1;33m\u001b[0m\u001b[0m\n\u001b[0m\u001b[0;32m      3\u001b[0m \u001b[1;32mtry\u001b[0m\u001b[1;33m:\u001b[0m\u001b[1;33m\u001b[0m\u001b[1;33m\u001b[0m\u001b[0m\n\u001b[0;32m      4\u001b[0m     \u001b[0mtarget_int\u001b[0m\u001b[1;33m=\u001b[0m\u001b[0mint\u001b[0m\u001b[1;33m(\u001b[0m\u001b[0mtarget_int\u001b[0m\u001b[1;33m)\u001b[0m\u001b[1;33m\u001b[0m\u001b[1;33m\u001b[0m\u001b[0m\n\u001b[0;32m      5\u001b[0m \u001b[1;32mexcept\u001b[0m \u001b[0mValueError\u001b[0m\u001b[1;33m:\u001b[0m\u001b[1;33m\u001b[0m\u001b[1;33m\u001b[0m\u001b[0m\n",
      "\u001b[1;31mNameError\u001b[0m: name 'raw_input' is not defined"
     ]
    }
   ],
   "source": []
  },
  {
   "cell_type": "code",
   "execution_count": 259,
   "id": "65710789-72f6-45d2-bef5-e6e1060c631f",
   "metadata": {},
   "outputs": [
    {
     "ename": "NameError",
     "evalue": "name 'raw_input' is not defined",
     "output_type": "error",
     "traceback": [
      "\u001b[1;31m---------------------------------------------------------------------------\u001b[0m",
      "\u001b[1;31mNameError\u001b[0m                                 Traceback (most recent call last)",
      "\u001b[1;32m~\\AppData\\Local\\Temp/ipykernel_3288/2720171501.py\u001b[0m in \u001b[0;36m<module>\u001b[1;34m\u001b[0m\n\u001b[1;32m----> 1\u001b[1;33m \u001b[0mtarget_int\u001b[0m \u001b[1;33m=\u001b[0m \u001b[0mraw_input\u001b[0m\u001b[1;33m(\u001b[0m\u001b[1;34m\"how many integers?\"\u001b[0m\u001b[1;33m)\u001b[0m\u001b[1;33m\u001b[0m\u001b[1;33m\u001b[0m\u001b[0m\n\u001b[0m\u001b[0;32m      2\u001b[0m \u001b[1;32mtry\u001b[0m\u001b[1;33m:\u001b[0m\u001b[1;33m\u001b[0m\u001b[1;33m\u001b[0m\u001b[0m\n\u001b[0;32m      3\u001b[0m     \u001b[0mtarget_int\u001b[0m\u001b[1;33m=\u001b[0m\u001b[0mint\u001b[0m\u001b[1;33m(\u001b[0m\u001b[0mtarget_int\u001b[0m\u001b[1;33m)\u001b[0m\u001b[1;33m\u001b[0m\u001b[1;33m\u001b[0m\u001b[0m\n\u001b[0;32m      4\u001b[0m \u001b[1;32mexcept\u001b[0m \u001b[0mValueError\u001b[0m\u001b[1;33m:\u001b[0m\u001b[1;33m\u001b[0m\u001b[1;33m\u001b[0m\u001b[0m\n\u001b[0;32m      5\u001b[0m     \u001b[0msys\u001b[0m\u001b[1;33m.\u001b[0m\u001b[0mexit\u001b[0m\u001b[1;33m(\u001b[0m\u001b[1;34m\"you must enter an integer\"\u001b[0m\u001b[1;33m)\u001b[0m\u001b[1;33m\u001b[0m\u001b[1;33m\u001b[0m\u001b[0m\n",
      "\u001b[1;31mNameError\u001b[0m: name 'raw_input' is not defined"
     ]
    }
   ],
   "source": [
    "\n",
    "target_int = raw_input(\"how many integers?\")\n",
    "try:\n",
    "    target_int=int(target_int)\n",
    "except ValueError:\n",
    "    sys.exit(\"you must enter an integer\")\n",
    "ints=list()\n",
    "count=0\n",
    "while count < target_int:\n",
    "    new_int=raw_input(\"please enter integer{0}:\".format(count+1))\n",
    "    isinit=False\n",
    "    try:\n",
    "        new_int=int(new_int)\n",
    "    except:\n",
    "        print(\"you must enter an integer\")\n",
    "        \n",
    "        ifisint == True\n",
    "        ints.append(new_int)\n",
    "        count+=1\n",
    "        print(\"using a for loop\")\n",
    "        forvalue in ints\n",
    "        print(str(value))"
   ]
  },
  {
   "cell_type": "code",
   "execution_count": null,
   "id": "3f4edbf5-7760-4982-9300-5f40236e392e",
   "metadata": {},
   "outputs": [],
   "source": []
  },
  {
   "cell_type": "code",
   "execution_count": null,
   "id": "f9cef32a-12c3-4aad-8ea7-16824115b4d1",
   "metadata": {},
   "outputs": [],
   "source": []
  },
  {
   "cell_type": "code",
   "execution_count": null,
   "id": "c4a13f45-7d0b-489b-9405-7ee703741ec8",
   "metadata": {},
   "outputs": [],
   "source": []
  },
  {
   "cell_type": "code",
   "execution_count": null,
   "id": "c0143493-fab6-4689-b5a8-b280efdd5bb4",
   "metadata": {},
   "outputs": [],
   "source": []
  },
  {
   "cell_type": "code",
   "execution_count": null,
   "id": "66dbf094-8573-4f55-9078-921e14d8b93d",
   "metadata": {},
   "outputs": [],
   "source": []
  },
  {
   "cell_type": "code",
   "execution_count": null,
   "id": "5bf85b4a-ff62-4ce4-abc0-3fc96d1a867f",
   "metadata": {},
   "outputs": [],
   "source": []
  },
  {
   "cell_type": "code",
   "execution_count": null,
   "id": "b4575ec6-51ae-4a23-8bde-a2b43fc5f6ee",
   "metadata": {},
   "outputs": [],
   "source": []
  }
 ],
 "metadata": {
  "kernelspec": {
   "display_name": "Python 3.10.5 64-bit",
   "language": "python",
   "name": "python3"
  },
  "language_info": {
   "codemirror_mode": {
    "name": "ipython",
    "version": 3
   },
   "file_extension": ".py",
   "mimetype": "text/x-python",
   "name": "python",
   "nbconvert_exporter": "python",
   "pygments_lexer": "ipython3",
   "version": "3.10.5"
  },
  "vscode": {
   "interpreter": {
    "hash": "fb4569285eef3a3450cb62085a5b1e0da4bce0af555edc33dcf29baf3acc1368"
   }
  }
 },
 "nbformat": 4,
 "nbformat_minor": 5
}
