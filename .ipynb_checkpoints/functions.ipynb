{
 "cells": [
  {
   "cell_type": "code",
   "execution_count": 29,
   "id": "d2245647-a3d0-40b9-bbd7-8630bebcece4",
   "metadata": {},
   "outputs": [
    {
     "name": "stdout",
     "output_type": "stream",
     "text": [
      "this is outside the function\n"
     ]
    }
   ],
   "source": [
    "# a collections of instruction\n",
    "# collections of codes\n",
    "# this simple code is saying \" define this function and gove it a name of (fumction1) or any other suitable name.\n",
    "\n",
    "\n",
    "\n",
    "def function1():\n",
    "    print(\"ahhhh\")\n",
    "    print(\"ahhhhh 2\")\n",
    "    \n",
    "print(\"this is outside the function\")"
   ]
  },
  {
   "cell_type": "code",
   "execution_count": 3,
   "id": "5c070833-9941-4136-8c27-aa9e4fb585c7",
   "metadata": {},
   "outputs": [
    {
     "name": "stdout",
     "output_type": "stream",
     "text": [
      "ahhhh\n",
      "ahhhhh 2\n"
     ]
    }
   ],
   "source": [
    "function1()"
   ]
  },
  {
   "cell_type": "code",
   "execution_count": 4,
   "id": "da589aaa-948f-4af6-8e10-21490325b22d",
   "metadata": {},
   "outputs": [
    {
     "name": "stdout",
     "output_type": "stream",
     "text": [
      "ahhhh\n",
      "ahhhhh 2\n",
      "ahhhh\n",
      "ahhhhh 2\n"
     ]
    }
   ],
   "source": [
    "function1()\n",
    "function1()"
   ]
  },
  {
   "cell_type": "code",
   "execution_count": 7,
   "id": "0663b928-3845-47fb-ac75-f8dab71d328b",
   "metadata": {},
   "outputs": [],
   "source": [
    "# functions cam also be used for mapping\n",
    "def function2(x):\n",
    "     return (2*x)\n",
    "    #this means define a function called function2 which will take an arguement (x) and in return to whoever called the\n",
    "    #function an output of 2*x will be returned\n",
    "a = function2(3)"
   ]
  },
  {
   "cell_type": "code",
   "execution_count": 8,
   "id": "6c8fd064-0365-4f02-b211-242917c8a5f3",
   "metadata": {},
   "outputs": [
    {
     "name": "stdout",
     "output_type": "stream",
     "text": [
      "6\n"
     ]
    }
   ],
   "source": [
    "a = function2(3)\n",
    "# if this func is evaluated then the function will return the value of 2*3 which is equal to 6 then the number will be \n",
    "# assigned to the variable A\n",
    "# return value or output.\n",
    "print(a)"
   ]
  },
  {
   "cell_type": "code",
   "execution_count": 9,
   "id": "5fa7369e-1a4a-4833-93fc-21b04c359764",
   "metadata": {},
   "outputs": [
    {
     "name": "stdout",
     "output_type": "stream",
     "text": [
      "0.4\n",
      "8.0\n",
      "47\n"
     ]
    }
   ],
   "source": [
    "def function1(x, y):\n",
    "    return(x / y)\n",
    "a = function1(6, 15)\n",
    "print(a)\n",
    "a = function1(20, 2.5)\n",
    "print(a)\n",
    "\n",
    "def function2(x, z):\n",
    "    return(x * z + 2)\n",
    "b = function2(15, 3)\n",
    "print(b)\n",
    "\n"
   ]
  },
  {
   "cell_type": "code",
   "execution_count": 10,
   "id": "13fd907d-00e8-4f48-a9d2-f0aa1bec2de0",
   "metadata": {},
   "outputs": [
    {
     "name": "stdout",
     "output_type": "stream",
     "text": [
      "47\n"
     ]
    }
   ],
   "source": [
    "def function4(b):\n",
    "    print(b)\n",
    "    print(\"b is the second alphabet\")\n",
    "    return 2 * b\n",
    "print(b)"
   ]
  },
  {
   "cell_type": "code",
   "execution_count": 14,
   "id": "64c05b65-f704-4497-81d7-8ff318c8fe24",
   "metadata": {},
   "outputs": [],
   "source": [
    "def function4(x):\n",
    "    return (3 * x)\n",
    "f = function4(10)"
   ]
  },
  {
   "cell_type": "code",
   "execution_count": 15,
   "id": "00de07fc-3148-4a59-8034-dcb2d3de2a85",
   "metadata": {},
   "outputs": [
    {
     "name": "stdout",
     "output_type": "stream",
     "text": [
      "30\n"
     ]
    }
   ],
   "source": [
    "print(f)"
   ]
  },
  {
   "cell_type": "code",
   "execution_count": 6,
   "id": "91c1357d-b66d-469c-9dce-bd13918ac90f",
   "metadata": {},
   "outputs": [
    {
     "name": "stdout",
     "output_type": "stream",
     "text": [
      "40\n"
     ]
    },
    {
     "ename": "TypeError",
     "evalue": "unsupported operand type(s) for +: 'int' and 'str'",
     "output_type": "error",
     "traceback": [
      "\u001b[1;31m---------------------------------------------------------------------------\u001b[0m",
      "\u001b[1;31mTypeError\u001b[0m                                 Traceback (most recent call last)",
      "\u001b[1;32m~\\AppData\\Local\\Temp/ipykernel_13024/4126279859.py\u001b[0m in \u001b[0;36m<module>\u001b[1;34m\u001b[0m\n\u001b[0;32m      3\u001b[0m \u001b[0mk\u001b[0m \u001b[1;33m=\u001b[0m \u001b[0mfunction5\u001b[0m\u001b[1;33m(\u001b[0m\u001b[1;36m8\u001b[0m\u001b[1;33m)\u001b[0m\u001b[1;33m\u001b[0m\u001b[1;33m\u001b[0m\u001b[0m\n\u001b[0;32m      4\u001b[0m \u001b[0mprint\u001b[0m\u001b[1;33m(\u001b[0m\u001b[0mk\u001b[0m\u001b[1;33m)\u001b[0m\u001b[1;33m\u001b[0m\u001b[1;33m\u001b[0m\u001b[0m\n\u001b[1;32m----> 5\u001b[1;33m \u001b[0mprint\u001b[0m\u001b[1;33m(\u001b[0m \u001b[0mk\u001b[0m \u001b[1;33m+\u001b[0m \u001b[1;34m\" is a good retirement age\"\u001b[0m\u001b[1;33m)\u001b[0m\u001b[1;33m\u001b[0m\u001b[1;33m\u001b[0m\u001b[0m\n\u001b[0m",
      "\u001b[1;31mTypeError\u001b[0m: unsupported operand type(s) for +: 'int' and 'str'"
     ]
    }
   ],
   "source": [
    "def function5(z):\n",
    "    return z * 5\n",
    "k = function5(8)\n",
    "print(k)\n",
    "print( k + \" is a good retirement age\")"
   ]
  },
  {
   "cell_type": "code",
   "execution_count": 4,
   "id": "b73f1729-abd1-425b-a318-e2bb88ec2bc1",
   "metadata": {},
   "outputs": [
    {
     "name": "stdout",
     "output_type": "stream",
     "text": [
      "150\n"
     ]
    }
   ],
   "source": [
    "g = function5(30)\n",
    "print(g)"
   ]
  },
  {
   "cell_type": "code",
   "execution_count": 5,
   "id": "d8781ed5-4383-4b77-a065-0b5f658f84c4",
   "metadata": {},
   "outputs": [
    {
     "name": "stdout",
     "output_type": "stream",
     "text": [
      "25\n"
     ]
    }
   ],
   "source": [
    "h = function5(5)\n",
    "print(h)"
   ]
  },
  {
   "cell_type": "code",
   "execution_count": null,
   "id": "9c873e25-3d55-4312-9075-3aae58432546",
   "metadata": {},
   "outputs": [],
   "source": []
  },
  {
   "cell_type": "code",
   "execution_count": 30,
   "id": "72a622d8-91c5-4871-8981-287af90d20df",
   "metadata": {},
   "outputs": [
    {
     "ename": "NameError",
     "evalue": "name 'false' is not defined",
     "output_type": "error",
     "traceback": [
      "\u001b[1;31m---------------------------------------------------------------------------\u001b[0m",
      "\u001b[1;31mNameError\u001b[0m                                 Traceback (most recent call last)",
      "\u001b[1;32m~\\AppData\\Local\\Temp/ipykernel_1404/2270584997.py\u001b[0m in \u001b[0;36m<module>\u001b[1;34m\u001b[0m\n\u001b[1;32m----> 1\u001b[1;33m \u001b[0mcont\u001b[0m \u001b[1;33m=\u001b[0m \u001b[0mfalse\u001b[0m\u001b[1;33m\u001b[0m\u001b[1;33m\u001b[0m\u001b[0m\n\u001b[0m\u001b[0;32m      2\u001b[0m \u001b[1;32mif\u001b[0m \u001b[0mcont\u001b[0m\u001b[1;33m:\u001b[0m\u001b[1;33m\u001b[0m\u001b[1;33m\u001b[0m\u001b[0m\n\u001b[0;32m      3\u001b[0m     \u001b[0mvar\u001b[0m \u001b[1;33m=\u001b[0m \u001b[1;36m1234\u001b[0m\u001b[1;33m\u001b[0m\u001b[1;33m\u001b[0m\u001b[0m\n\u001b[0;32m      4\u001b[0m     \u001b[0mprint\u001b[0m\u001b[1;33m(\u001b[0m\u001b[0mvar\u001b[0m\u001b[1;33m)\u001b[0m\u001b[1;33m\u001b[0m\u001b[1;33m\u001b[0m\u001b[0m\n",
      "\u001b[1;31mNameError\u001b[0m: name 'false' is not defined"
     ]
    }
   ],
   "source": [
    "cont = false\n",
    "if cont:\n",
    "    var = 1234\n",
    "    print(var)"
   ]
  },
  {
   "cell_type": "code",
   "execution_count": 29,
   "id": "ac3237f6-bf62-4484-85af-e01b6bd31438",
   "metadata": {},
   "outputs": [
    {
     "name": "stdout",
     "output_type": "stream",
     "text": [
      "this is a string\n",
      "this is a string that has been modified.\n"
     ]
    }
   ],
   "source": [
    "def modify_string(original):\n",
    "    original += \" that has been modified \"\n",
    "    \n",
    "def modify_string_return(original):\n",
    "    original += \" that has been modified.\"\n",
    "    return original\n",
    "\n",
    "test_string = \"this is a string\"\n",
    "modify_string(test_string)\n",
    "print(test_string)\n",
    "\n",
    "test_string = modify_string_return(test_string)\n",
    "print(test_string)"
   ]
  },
  {
   "cell_type": "code",
   "execution_count": null,
   "id": "2c975a64-41f9-48e1-ab1f-23f84adfb2c5",
   "metadata": {},
   "outputs": [],
   "source": []
  },
  {
   "cell_type": "code",
   "execution_count": null,
   "id": "4a79c22b-7ac9-4427-82d8-c597d2fc9e0c",
   "metadata": {},
   "outputs": [],
   "source": []
  },
  {
   "cell_type": "code",
   "execution_count": null,
   "id": "f334e396-1d63-4a7d-b3e7-cc3807c77b4a",
   "metadata": {},
   "outputs": [],
   "source": []
  },
  {
   "cell_type": "code",
   "execution_count": null,
   "id": "b5b30b2b-d666-4466-adbd-40c871864ee1",
   "metadata": {},
   "outputs": [],
   "source": []
  },
  {
   "cell_type": "code",
   "execution_count": null,
   "id": "9cd1f849-6bc0-43ab-938c-89f5825732e9",
   "metadata": {},
   "outputs": [],
   "source": []
  },
  {
   "cell_type": "code",
   "execution_count": null,
   "id": "47c49a40-70f6-44e3-8ac2-c348a5e011e5",
   "metadata": {},
   "outputs": [],
   "source": []
  },
  {
   "cell_type": "code",
   "execution_count": null,
   "id": "7aeab803-e8a7-4376-b873-609bdf437465",
   "metadata": {},
   "outputs": [],
   "source": []
  }
 ],
 "metadata": {
  "kernelspec": {
   "display_name": "Python 3 (ipykernel)",
   "language": "python",
   "name": "python3"
  },
  "language_info": {
   "codemirror_mode": {
    "name": "ipython",
    "version": 3
   },
   "file_extension": ".py",
   "mimetype": "text/x-python",
   "name": "python",
   "nbconvert_exporter": "python",
   "pygments_lexer": "ipython3",
   "version": "3.9.7"
  }
 },
 "nbformat": 4,
 "nbformat_minor": 5
}
