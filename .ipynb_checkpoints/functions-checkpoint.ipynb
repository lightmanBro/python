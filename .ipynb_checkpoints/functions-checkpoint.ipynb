{
 "cells": [
  {
   "cell_type": "code",
   "execution_count": 2,
   "id": "d2245647-a3d0-40b9-bbd7-8630bebcece4",
   "metadata": {},
   "outputs": [
    {
     "name": "stdout",
     "output_type": "stream",
     "text": [
      "this is outside the function\n"
     ]
    }
   ],
   "source": [
    "# a collections of instruction\n",
    "# collections of codes\n",
    "# this simple code is saying \" define this function and gove it a name of (fumction1) or any other suitable name.\n",
    "\n",
    "\n",
    "\n",
    "def function1():\n",
    "    print(\"ahhhh\")\n",
    "    print(\"ahhhhh 2\")\n",
    "print(\"this is outside the function\")"
   ]
  },
  {
   "cell_type": "code",
   "execution_count": 3,
   "id": "5c070833-9941-4136-8c27-aa9e4fb585c7",
   "metadata": {},
   "outputs": [
    {
     "name": "stdout",
     "output_type": "stream",
     "text": [
      "ahhhh\n",
      "ahhhhh 2\n"
     ]
    }
   ],
   "source": [
    "function1()"
   ]
  },
  {
   "cell_type": "code",
   "execution_count": 4,
   "id": "da589aaa-948f-4af6-8e10-21490325b22d",
   "metadata": {},
   "outputs": [
    {
     "name": "stdout",
     "output_type": "stream",
     "text": [
      "ahhhh\n",
      "ahhhhh 2\n",
      "ahhhh\n",
      "ahhhhh 2\n"
     ]
    }
   ],
   "source": [
    "function1()\n",
    "function1()"
   ]
  },
  {
   "cell_type": "code",
   "execution_count": 7,
   "id": "0663b928-3845-47fb-ac75-f8dab71d328b",
   "metadata": {},
   "outputs": [],
   "source": [
    "# functions cam also be used for mapping\n",
    "def function2(x):\n",
    "     return 2*x\n",
    "    #this means define a function called function2 which will take an arguement (x) and in return to whoever called the function an output of 2*x will be returned\n",
    "   "
   ]
  },
  {
   "cell_type": "code",
   "execution_count": 8,
   "id": "6c8fd064-0365-4f02-b211-242917c8a5f3",
   "metadata": {},
   "outputs": [],
   "source": [
    "a = function2(3)\n",
    "# if this func is evaluated then the function will return the value of 2*3 which is equal to 6 then the number will be assigned to the variable A\n",
    "# return value or output."
   ]
  },
  {
   "cell_type": "code",
   "execution_count": 9,
   "id": "f017c9d7-b071-49cf-8124-2ed8286529cd",
   "metadata": {},
   "outputs": [
    {
     "name": "stdout",
     "output_type": "stream",
     "text": [
      "6\n"
     ]
    }
   ],
   "source": [
    "print(a)"
   ]
  },
  {
   "cell_type": "code",
   "execution_count": null,
   "id": "5fa7369e-1a4a-4833-93fc-21b04c359764",
   "metadata": {},
   "outputs": [],
   "source": []
  },
  {
   "cell_type": "code",
   "execution_count": null,
   "id": "13fd907d-00e8-4f48-a9d2-f0aa1bec2de0",
   "metadata": {},
   "outputs": [],
   "source": []
  }
 ],
 "metadata": {
  "kernelspec": {
   "display_name": "Python 3 (ipykernel)",
   "language": "python",
   "name": "python3"
  },
  "language_info": {
   "codemirror_mode": {
    "name": "ipython",
    "version": 3
   },
   "file_extension": ".py",
   "mimetype": "text/x-python",
   "name": "python",
   "nbconvert_exporter": "python",
   "pygments_lexer": "ipython3",
   "version": "3.9.7"
  }
 },
 "nbformat": 4,
 "nbformat_minor": 5
}
